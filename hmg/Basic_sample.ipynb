{
  "cells": [
    {
      "cell_type": "code",
      "execution_count": null,
      "metadata": {
        "id": "ur8xi4C7S06n"
      },
      "outputs": [],
      "source": [
        "# Copyright 2021 Google LLC\n",
        "#\n",
        "# Licensed under the Apache License, Version 2.0 (the \"License\");\n",
        "# you may not use this file except in compliance with the License.\n",
        "# You may obtain a copy of the License at\n",
        "#\n",
        "#     https://www.apache.org/licenses/LICENSE-2.0\n",
        "#\n",
        "# Unless required by applicable law or agreed to in writing, software\n",
        "# distributed under the License is distributed on an \"AS IS\" BASIS,\n",
        "# WITHOUT WARRANTIES OR CONDITIONS OF ANY KIND, either express or implied.\n",
        "# See the License for the specific language governing permissions and\n",
        "# limitations under the License."
      ]
    },
    {
      "cell_type": "markdown",
      "metadata": {
        "id": "JAPoU8Sm5E6e"
      },
      "source": [
        "# Vertex AI Workbench를 활용한 모델 생성 및 모델 배포 실습 \n",
        "\n",
        "## 개요\n",
        "\n",
        "본 튜토리얼은 Iris 데이터를 활용하여 VerTex AI Workbench 환경에서 학습하여 모델을 생성하고 생성된 모델을 팀별 또는 개인별 저장소에 업로드하여 버전, 히스토리 등이  관리되게 하는 환경을 실습합니다.\n",
        "\n",
        "<img src=\"./imgs/workbench.png\" alt=\"Workbench 구조\" width=\"400\"/>"
      ]
    },
    {
      "cell_type": "markdown",
      "metadata": {
        "id": "cbd99f7bfc8e"
      },
      "source": [
        "### 실습 목표\n",
        "\n",
        "The objective of this notebook is to create, deploy and serve a custom classification model on Vertex AI. This notebook focuses more on deploying the model than on the design of the model itself. \n",
        "\n",
        "\n",
        "This tutorial uses the following Google Cloud ML services and resources:\n",
        "\n",
        "- Vertex AI Models\n",
        "- Vertex AI Endpoints\n",
        "\n",
        "The steps performed include:\n",
        "\n",
        "- Train a model that uses flower's measurements as input to predict the class of iris.\n",
        "- Save the model and its serialized pre-processor.\n",
        "- Build a FastAPI server to handle predictions and health checks.\n",
        "- Build a custom container with model artifacts.\n",
        "- Upload and deploy custom container to Vertex AI Endpoints."
      ]
    },
    {
      "cell_type": "markdown",
      "metadata": {
        "id": "0fe0bb78c9ce"
      },
      "source": [
        "### 데이터 셋\n",
        "\n",
        "본 튜토리얼은 R.A. Fisher의 Iris 데이터셋을 활용하여 모델을 생성합니다. \n",
        " tutorial uses R.A. Fisher's Iris dataset, a small dataset that is a popular choice for trying out machine learning techniques. Each instance has four numerical features, which are different measurements of a flower, and a target label that\n",
        "marks it as one of three types of iris: Iris setosa, Iris versicolour, or Iris virginica."
      ]
    },
    {
      "cell_type": "markdown",
      "metadata": {
        "id": "i7EUnXsZhAGF"
      },
      "source": [
        "### 샘플 학습에 필요한 패키지 설치 및 적용\n",
        "\n",
        "샘플 학습에 필요한 패키지 설치를 위한 다음의 코드를 실행합니다. \n",
        "실행이 완료되면 설치된 패키지 적용을 위해서 다음과 같은 메시지가 보입니다. \"OK\" 버튼을 클릭하여 설치된 패키지를 적용합니다. \n",
        "\n",
        "<img src=\"./imgs/kernel_restart.png\" alt=\"설치된 패키지 적용\" width=\"400\"/>"
      ]
    },
    {
      "cell_type": "code",
      "execution_count": null,
      "metadata": {
        "id": "747f59abb3a5"
      },
      "outputs": [],
      "source": [
        "%%writefile requirements.txt\n",
        "joblib~=1.0\n",
        "numpy~=1.20\n",
        "scikit-learn~=0.24\n",
        "google-cloud-storage>=1.26.0,<2.0.0dev"
      ]
    },
    {
      "cell_type": "code",
      "execution_count": null,
      "metadata": {
        "id": "1fd00fa70a2a"
      },
      "outputs": [],
      "source": [
        "import os\n",
        "\n",
        "# The Vertex AI Workbench Notebook product has specific requirements\n",
        "IS_WORKBENCH_NOTEBOOK = os.getenv(\"DL_ANACONDA_HOME\")\n",
        "IS_USER_MANAGED_WORKBENCH_NOTEBOOK = os.path.exists(\n",
        "    \"/opt/deeplearning/metadata/env_version\"\n",
        ")\n",
        "\n",
        "# Vertex AI Notebook requires dependencies to be installed with '--user'\n",
        "USER_FLAG = \"\"\n",
        "if IS_WORKBENCH_NOTEBOOK:\n",
        "    USER_FLAG = \"--user\"\n",
        "\n",
        "# Required in Docker serving container\n",
        "! pip3 install -U {USER_FLAG} -r requirements.txt -q\n",
        "\n",
        "# For local FastAPI development and running\n",
        "! pip3 install -U {USER_FLAG} \"uvicorn[standard]>=0.12.0,<0.14.0\" fastapi~=0.63 -q\n",
        "\n",
        "# Vertex SDK for Python\n",
        "! pip3 install -U {USER_FLAG} google-cloud-aiplatform -q\n",
        "\n",
        "# 설치된 패키지 반영\n",
        "if not os.getenv(\"IS_TESTING\"):\n",
        "    # Automatically restart kernel after installs\n",
        "    import IPython\n",
        "\n",
        "    app = IPython.Application.instance()\n",
        "    app.kernel.do_shutdown(True)"
      ]
    },
    {
      "cell_type": "markdown",
      "metadata": {
        "id": "lWEdiXsJg0XY"
      },
      "source": [
        "## 시작 하기 전"
      ]
    },
    {
      "cell_type": "markdown",
      "metadata": {
        "id": "WReHDGG5g0XY"
      },
      "source": [
        "#### 구글 클라우드 서비스 (Google Cloud Storage 등)를 사용하기 위한 환경 설정\n",
        "\n",
        "팀별 또는 개인별로 생성된 스토리지나 모델을 저장하기 위한 저장소에 접근하기 위한 기본 환경을 설정합니다.\n",
        "\n",
        "```다음 코드는 향후 Google Cloud 기반에서 Jupyter Notebook을 활용할 때 재 사용할 수 있는 코드입니다.```"
      ]
    },
    {
      "cell_type": "code",
      "execution_count": null,
      "metadata": {
        "id": "cde8e0876d62"
      },
      "outputs": [],
      "source": [
        "import random\n",
        "import string\n",
        "\n",
        "\n",
        "# Generate a uuid of a specifed length(default=8)\n",
        "def generate_uuid(length: int = 8) -> str:\n",
        "    return \"\".join(random.choices(string.ascii_lowercase + string.digits, k=length))\n",
        "\n",
        "\n",
        "UUID = generate_uuid()\n",
        "\n",
        "## 학습을 위한 샘플 데이터가 저장되어 있는 스토리지 명\n",
        "SAMPLE_DATA_STORAGE_NAME = \"hmg-vertexai-data\"\n",
        "\n",
        "## 프로젝트 ID 가져오기\n",
        "shell_output = ! gcloud config list --format 'value(core.project)' 2>/dev/null\n",
        "PROJECT_ID = shell_output[0]\n",
        "print(\"Project ID: \", PROJECT_ID)\n",
        "\n",
        "REGION = \"[your-region]\"\n",
        "\n",
        "if REGION == \"[your-region]\":\n",
        "    REGION = \"asia-northeast3\"\n",
        "\n",
        "print(\"Region : \" , REGION)\n",
        "\n",
        "! gcloud config set project {PROJECT_ID}\n",
        "\n",
        "## 생성된 모델 등의 파일을 저장하기 위한 스토리지 생성\n",
        "BUCKET_NAME = PROJECT_ID\n",
        "BUCKET_URI = f'gs://{BUCKET_NAME}'\n",
        "\n",
        "! gsutil mb -l {REGION} {BUCKET_URI}"
      ]
    },
    {
      "cell_type": "markdown",
      "metadata": {},
      "source": [
        "#### 실습에 사용될 공통 변수 설정\n",
        "\n",
        "Set a name for the following resources:\n",
        "\n",
        "`MODEL_ARTIFACT_DIR` - Folder directory path to your model artifacts within a Cloud Storage bucket, for example: \"my-models/fraud-detection/trial-4\"\n",
        "\n",
        "`REPOSITORY` - Name of the Artifact Repository to create or use.\n",
        "\n",
        "`IMAGE` - Name of the container image that is pushed to the repository.\n",
        "\n",
        "`MODEL_DISPLAY_NAME` - Display name of Vertex AI Model resource."
      ]
    },
    {
      "cell_type": "code",
      "execution_count": null,
      "metadata": {},
      "outputs": [],
      "source": [
        "MODEL_ARTIFACT_DIR = \"[your-artifact-directory]\"  \n",
        "REPOSITORY = \"[your-repository-name]\" \n",
        "IMAGE = \"[your-image-name]\"  \n",
        "MODEL_DISPLAY_NAME = \"[your-model-display-name]\" \n",
        "DATA_DIR = \"[your-data-directory]\"\n",
        "ROOT_DIR = \"[your-root-directory]\"\n",
        "MODEL_STORE_DIR = \"[your-model-store-directory]\"\n",
        "\n",
        "# Set the defaults if no names were specified\n",
        "if MODEL_ARTIFACT_DIR == \"[your-artifact-directory]\":\n",
        "    MODEL_ARTIFACT_DIR = \"custom-container-prediction-model\"\n",
        "\n",
        "if REPOSITORY == \"[your-repository-name]\":\n",
        "    REPOSITORY = \"custom-container-prediction\"\n",
        "\n",
        "if IMAGE == \"[your-image-name]\":\n",
        "    IMAGE = \"sklearn-fastapi-server\"\n",
        "\n",
        "if MODEL_DISPLAY_NAME == \"[your-model-display-name]\":\n",
        "    MODEL_DISPLAY_NAME = \"sklearn-custom-container\"\n",
        "    \n",
        "if DATA_DIR == \"[your-data-directory]\":\n",
        "    DATA_DIR = \"data\"\n",
        "\n",
        "if ROOT_DIR == \"[your-root-directory]\":\n",
        "    ROOT_DIR = \"app\"\n",
        "    \n",
        "if MODEL_STORE_DIR == \"[your-model-store-directory]\":\n",
        "    MODEL_STORE_DIR = \"model\""
      ]
    },
    {
      "cell_type": "markdown",
      "metadata": {
        "id": "d3938f6d37a1"
      },
      "source": [
        "#### 라이브러리 임포트"
      ]
    },
    {
      "cell_type": "code",
      "execution_count": null,
      "metadata": {
        "id": "e95ca1e5e07c"
      },
      "outputs": [],
      "source": [
        "from google.cloud import aiplatform"
      ]
    },
    {
      "cell_type": "markdown",
      "metadata": {
        "id": "750d53e37094"
      },
      "source": [
        "#### Vertex AI SDK for Python 초기화\n",
        "\n",
        "Initialize the Vertex AI SDK for Python for your project and corresponding bucket."
      ]
    },
    {
      "cell_type": "code",
      "execution_count": null,
      "metadata": {
        "id": "1a3aa2d4a74f"
      },
      "outputs": [],
      "source": [
        "aiplatform.init(project=PROJECT_ID, location=REGION)"
      ]
    },
    {
      "cell_type": "markdown",
      "metadata": {},
      "source": [
        "#### 모델 생성을 위한 디렉토리 생성"
      ]
    },
    {
      "cell_type": "code",
      "execution_count": null,
      "metadata": {},
      "outputs": [],
      "source": [
        "%mkdir {ROOT_DIR}\n",
        "\n",
        "## Data 디렉토리 생성\n",
        "%mkdir -p {ROOT_DIR}/{DATA_DIR}\n",
        "\n",
        "## Model 저장을 위한 디렉토리 생성\n",
        "%mkdir -p {ROOT_DIR}/{MODEL_STORE_DIR}"
      ]
    },
    {
      "cell_type": "markdown",
      "metadata": {},
      "source": [
        "#### 학습 데이터 다운로드\n",
        "\n",
        "모델 학습에 필요한 iris.csv 파일을 샘플 데이터가 저장되어 있는 스토리지에서 다운로드 받습니다."
      ]
    },
    {
      "cell_type": "code",
      "execution_count": null,
      "metadata": {},
      "outputs": [],
      "source": [
        "! gsutil cp gs://hmg-vertexai-data/iris.csv {ROOT_DIR}/{DATA_DIR}/"
      ]
    },
    {
      "cell_type": "markdown",
      "metadata": {
        "id": "4b816cd52f4b"
      },
      "source": [
        "#### 학습 및 모델 생성\n"
      ]
    },
    {
      "cell_type": "code",
      "execution_count": null,
      "metadata": {
        "id": "43e47249f736"
      },
      "outputs": [],
      "source": [
        "import joblib\n",
        "import pandas as pd\n",
        "from sklearn.model_selection import train_test_split\n",
        "from sklearn.naive_bayes import GaussianNB\n",
        "\n",
        "filePath = f\"{ROOT_DIR}/{DATA_DIR}/iris.csv\"\n",
        "df = pd.read_csv(filePath)\n",
        "df.info()\n",
        "df.head()\n",
        "\n",
        "df.Species.value_counts()\n",
        "\n",
        "setosa_df = df[df.Species == 'setosa']\n",
        "ax = setosa_df[\"Sepal.Length\"].plot(kind='hist')\n",
        "setosa_df[\"Sepal.Length\"].plot(kind='kde', ax=ax, secondary_y=True, figsize=(8,4))\n",
        "\n",
        "X_train,X_test,Y_train,Y_test = train_test_split(df.iloc[:,0:4],df['Species'],test_size=0.2)\n",
        "\n",
        "model = GaussianNB()\n",
        "\n",
        "model.fit(X_train,Y_train)\n",
        "\n",
        "joblib.dump(model, \"model.joblib\")"
      ]
    },
    {
      "cell_type": "markdown",
      "metadata": {},
      "source": [
        "#### 생성된 모델 클라우드 스토리지에 저장하기"
      ]
    },
    {
      "cell_type": "code",
      "execution_count": null,
      "metadata": {},
      "outputs": [],
      "source": [
        "! gsutil cp {ROOT_DIR}/{MODEL_STORE_DIR}/model.joblib {BUCKET_URI}/{MODEL_ARTIFACT_DIR}"
      ]
    },
    {
      "cell_type": "markdown",
      "metadata": {},
      "source": [
        "#### 셍성된 모델을 Google Cloud의 Model Repository 에 저장하기\n",
        "\n",
        "생성된 모델을 구글 클라우드 Vertex AI 서비스 중 하나인 Model Repository에 저장합니다.\n",
        "저장을 위해서는 일련의 패키징 작업이 필요합니다. 다음 코드는 패키징 작업 후 모델에 저장하는 코드 샘플입니다.\n",
        "\n",
        "Model Repository는 학습하여 생성된 모델을 저장하여 허가된 사용자에게 공유하여 사용가능하며,\n",
        "버전 관리가 가능하며, 예측을 위해 원격으로 요청이 가능합니다."
      ]
    },
    {
      "cell_type": "code",
      "execution_count": null,
      "metadata": {},
      "outputs": [],
      "source": [
        "%%writefile Dockerfile\n",
        "\n",
        "FROM tiangolo/uvicorn-gunicorn-fastapi:python3.9\n",
        "\n",
        "COPY ./app /app\n",
        "COPY requirements.txt requirements.txt\n",
        "\n",
        "RUN pip install -r requirements.txt"
      ]
    },
    {
      "cell_type": "code",
      "execution_count": null,
      "metadata": {},
      "outputs": [],
      "source": [
        "!gcloud artifacts repositories create {REPOSITORY} \\\n",
        "    --repository-format=docker \\\n",
        "    --location={REGION}\n",
        "\n",
        "!gcloud builds submit --region={REGION} --tag={REGION}-docker.pkg.dev/{PROJECT_ID}/{REPOSITORY}/{IMAGE}\n",
        "\n",
        "model = aiplatform.Model.upload(\n",
        "    display_name=MODEL_DISPLAY_NAME,\n",
        "    artifact_uri=f\"{BUCKET_URI}/{MODEL_ARTIFACT_DIR}\",\n",
        "    serving_container_image_uri=f\"{REGION}-docker.pkg.dev/{PROJECT_ID}/{REPOSITORY}/{IMAGE}\",\n",
        ")"
      ]
    }
  ],
  "metadata": {
    "colab": {
      "collapsed_sections": [],
      "name": "SDK_Custom_Container_Prediction.ipynb",
      "toc_visible": true
    },
    "kernelspec": {
      "display_name": "Python 3.10.7 64-bit",
      "language": "python",
      "name": "python3"
    },
    "language_info": {
      "name": "python",
      "version": "3.10.7"
    },
    "vscode": {
      "interpreter": {
        "hash": "aee8b7b246df8f9039afb4144a1f6fd8d2ca17a180786b69acc140d282b71a49"
      }
    }
  },
  "nbformat": 4,
  "nbformat_minor": 0
}
