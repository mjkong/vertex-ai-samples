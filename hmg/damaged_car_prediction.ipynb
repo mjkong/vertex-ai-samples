{
  "cells": [
    {
      "cell_type": "code",
      "execution_count": null,
      "metadata": {
        "id": "ur8xi4C7S06n"
      },
      "outputs": [],
      "source": [
        "# Copyright 2021 Google LLC\n",
        "#\n",
        "# Licensed under the Apache License, Version 2.0 (the \"License\");\n",
        "# you may not use this file except in compliance with the License.\n",
        "# You may obtain a copy of the License at\n",
        "#\n",
        "#     https://www.apache.org/licenses/LICENSE-2.0\n",
        "#\n",
        "# Unless required by applicable law or agreed to in writing, software\n",
        "# distributed under the License is distributed on an \"AS IS\" BASIS,\n",
        "# WITHOUT WARRANTIES OR CONDITIONS OF ANY KIND, either express or implied.\n",
        "# See the License for the specific language governing permissions and\n",
        "# limitations under the License."
      ]
    },
    {
      "cell_type": "markdown",
      "metadata": {
        "id": "JAPoU8Sm5E6e"
      },
      "source": [
        "# [AutoML] Damaged car 모델 prediction Sample 코드\n",
        "\n",
        "AutoML을 통해 생성된 모델을 활용하여 Prediction을 위한 샘플 코드입니다.\n",
        "Deploy 된 모델의 endpoint를 활용"
      ]
    },
    {
      "cell_type": "code",
      "execution_count": null,
      "metadata": {
        "id": "747f59abb3a5"
      },
      "outputs": [],
      "source": [
        "import base64\n",
        "import os, sys\n",
        "\n",
        "from google.cloud import aiplatform\n",
        "from google.cloud.aiplatform.gapic.schema import predict"
      ]
    },
    {
      "cell_type": "code",
      "execution_count": null,
      "metadata": {
        "id": "1fd00fa70a2a"
      },
      "outputs": [],
      "source": [
        "PROJECT = \"\" ## 생성된 모델이 포함되어 있는 Google Cloud Project ID\n",
        "ENDPOINT_ID = \"\" ## Deploy된 모델의 Endpoint\n",
        "FILENAME = \"\" ## Prediction 하기 위한 파일명\n",
        "LOCATION = \"\" ## 모델이 포함된 Google Cloud의 리전 \n",
        "API_ENDPOINT = \"\" ## AI Platform 호출을 위한 API endpoint \"<region>-aiplatform.googleapis.com\"\n",
        "\n",
        "# The AI Platform services require regional API endpoints.\n",
        "client_options = {\"api_endpoint\": API_ENDPOINT}\n",
        "# Initialize client that will be used to create and send requests.\n",
        "# This client only needs to be created once, and can be reused for multiple requests.\n",
        "client = aiplatform.gapic.PredictionServiceClient(client_options=client_options)\n",
        "with open(FILENAME, \"rb\") as f:\n",
        "    file_content = f.read()\n",
        "\n",
        "# The format of each instance should conform to the deployed model's prediction input schema.\n",
        "encoded_content = base64.b64encode(file_content).decode(\"utf-8\")\n",
        "\n",
        "instance = predict.instance.ImageClassificationPredictionInstance(\n",
        "    content=encoded_content,\n",
        ").to_value()\n",
        "instances = [instance]\n",
        "# See gs://google-cloud-aiplatform/schema/predict/params/image_classification_1.0.0.yaml for the format of the parameters.\n",
        "parameters = predict.params.ImageClassificationPredictionParams(\n",
        "    confidence_threshold=0.5, max_predictions=5,\n",
        ").to_value()\n",
        "endpoint = client.endpoint_path(\n",
        "    project=PROJECT, location=LOCATION, endpoint=ENDPOINT_ID\n",
        ")\n",
        "response = client.predict(\n",
        "    endpoint=endpoint, instances=instances, parameters=parameters\n",
        ")\n",
        "print (\"response\")\n",
        "print(\" deployed_model_id:\", response.deployed_model_id)\n",
        "# See gs://google-cloud-aiplatform/schema/predict/prediction/image_classification_1.0.0.yaml for the format of the predictions.\n",
        "predictions = response.predictions\n",
        "for prediction in predictions:\n",
        "    print(\" prediction:\", dict(prediction))"
      ]
    }
  ],
  "metadata": {
    "colab": {
      "collapsed_sections": [],
      "name": "SDK_Custom_Container_Prediction.ipynb",
      "toc_visible": true
    },
    "kernelspec": {
      "display_name": "Python 3.10.7 64-bit",
      "language": "python",
      "name": "python3"
    },
    "language_info": {
      "name": "python",
      "version": "3.10.7"
    },
    "vscode": {
      "interpreter": {
        "hash": "aee8b7b246df8f9039afb4144a1f6fd8d2ca17a180786b69acc140d282b71a49"
      }
    }
  },
  "nbformat": 4,
  "nbformat_minor": 0
}
